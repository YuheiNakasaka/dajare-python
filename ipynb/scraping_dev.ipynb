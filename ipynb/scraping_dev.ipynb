{
 "cells": [
  {
   "cell_type": "markdown",
   "metadata": {},
   "source": [
    "# ダジャレ検索 - from dajare.jp"
   ]
  },
  {
   "cell_type": "code",
   "execution_count": 1,
   "metadata": {},
   "outputs": [],
   "source": [
    "import requests\n",
    "from bs4 import BeautifulSoup\n",
    "import urllib\n",
    "import json\n",
    "# import requests_cache\n",
    "import re\n",
    "# requests_cache.install_cache('dajare')"
   ]
  },
  {
   "cell_type": "code",
   "execution_count": 2,
   "metadata": {},
   "outputs": [],
   "source": [
    "s = 'みかん'\n",
    "s_quote = urllib.parse.quote(s)\n",
    "r = requests.get(f'https://dajare.jp/keyword/{s_quote}/')"
   ]
  },
  {
   "cell_type": "code",
   "execution_count": 3,
   "metadata": {},
   "outputs": [],
   "source": [
    "bs = BeautifulSoup(r.text)"
   ]
  },
  {
   "cell_type": "code",
   "execution_count": 4,
   "metadata": {},
   "outputs": [],
   "source": [
    "l = []\n",
    "for x in bs.find_all('tr'):\n",
    "    dajare = x.find(\"td\", class_='ListWorkBody')\n",
    "    if not dajare:\n",
    "        continue\n",
    "    score = x.find(\"td\", class_=\"ListWorkScore\")\n",
    "    l.append({'text':dajare.text, 'score':float(score.text.split(' (')[0])})"
   ]
  },
  {
   "cell_type": "code",
   "execution_count": 5,
   "metadata": {},
   "outputs": [
    {
     "data": {
      "text/plain": [
       "[{'text': 'みかん星は、まだ未完成‼️', 'score': 4.0},\n",
       " {'text': '南関東では皆、みかん党', 'score': 4.0},\n",
       " {'text': 'みかんが三日も見っかんねぇ', 'score': 4.0},\n",
       " {'text': 'ミカン製品が未完成品だった。', 'score': 4.0},\n",
       " {'text': '関空で、ミカン食う。', 'score': 4.0},\n",
       " {'text': '阿部なつみ監修、夏みかん集！', 'score': 3.8},\n",
       " {'text': '奈津美噛んだ夏ミカンだ', 'score': 3.5},\n",
       " {'text': '私のみかんが３日間、見っかんない・・・', 'score': 3.5},\n",
       " {'text': 'アルミ缶の上にあるミカン', 'score': 3.2},\n",
       " {'text': 'みかん農家のみ官能か？', 'score': 3.0},\n",
       " {'text': '未完、無効化したのでミカン剥こうか？', 'score': 3.0},\n",
       " {'text': '奈津美、環奈の好物は夏みかんなの', 'score': 3.0},\n",
       " {'text': '官能みかん農園', 'score': 3.0},\n",
       " {'text': '和歌山産みかん汁には、香山、酸味感じる', 'score': 3.0},\n",
       " {'text': '近江観光で王、ミカン乞う', 'score': 3.0},\n",
       " {'text': 'みかんが三日も見っかんない', 'score': 3.0},\n",
       " {'text': 'オランジーナでホラン自慰な', 'score': 3.0},\n",
       " {'text': 'ミカンのみ完', 'score': 3.0},\n",
       " {'text': '「お菓子、ミカンだ...」と、可笑しみ噛んだ', 'score': 3.0},\n",
       " {'text': 'ミカン農家のみ官能か？', 'score': 3.0},\n",
       " {'text': '関与した、みかんよ。', 'score': 3.0},\n",
       " {'text': 'いい伊予柑、いいよ噛んで、', 'score': 3.0},\n",
       " {'text': 'ミカンの実、噛んだ。……', 'score': 3.0},\n",
       " {'text': '未感動なみかんどう？', 'score': 3.0},\n",
       " {'text': 'ミカン生活未完成かっ！', 'score': 3.0},\n",
       " {'text': '菅送ったら、ミカンを食ったら？', 'score': 3.0},\n",
       " {'text': 'ミカン系は未関係', 'score': 3.0},\n",
       " {'text': 'スダチから巣立ち', 'score': 3.0},\n",
       " {'text': '南関東の球場では皆、未完投', 'score': 3.0},\n",
       " {'text': '蜜柑がみっかんない', 'score': 3.0},\n",
       " {'text': '柑橘園農場で、おかん喫煙？', 'score': 3.0},\n",
       " {'text': '安倍なつみの夏みかん', 'score': 3.0},\n",
       " {'text': '蜜柑汁のみ感じるの？', 'score': 2.0},\n",
       " {'text': '翔、「蜜柑だね？」と正味噛んだね', 'score': 2.0},\n",
       " {'text': '有田市にあり出汁', 'score': 2.0},\n",
       " {'text': 'つい乗す蜜柑、終の棲家', 'score': 2.0},\n",
       " {'text': '桜島公民館で小みかん食う。', 'score': 2.0},\n",
       " {'text': 'おこたの手入れを怠ったら怒った。', 'score': 2.0},\n",
       " {'text': 'おこたが怒ったー', 'score': 2.0},\n",
       " {'text': '小並感な、粉みかん。', 'score': 1.5},\n",
       " {'text': '館内放送は缶無い包装', 'score': 1.0},\n",
       " {'text': '関東のみかん缶、糖分多し。', 'score': 1.0},\n",
       " {'text': 'みかん畑の未完バー高けぇ……', 'score': 1.0},\n",
       " {'text': '多部未華子言った、『お食べ、みかん』', 'score': 1.0}]"
      ]
     },
     "execution_count": 5,
     "metadata": {},
     "output_type": "execute_result"
    }
   ],
   "source": [
    "sorted(l, key=lambda x: x['score'], reverse=True)"
   ]
  },
  {
   "cell_type": "markdown",
   "metadata": {},
   "source": [
    "# ダジャレクローラー - dajare.jp"
   ]
  },
  {
   "cell_type": "code",
   "execution_count": 6,
   "metadata": {},
   "outputs": [],
   "source": [
    "bs=BeautifulSoup(requests.get('https://dajare.jp/').text)"
   ]
  },
  {
   "cell_type": "code",
   "execution_count": 7,
   "metadata": {},
   "outputs": [],
   "source": [
    "rex = re.compile(r'/category/*')\n",
    "\n",
    "link_list = set()\n",
    "for x in bs.find_all('a', href=rex):\n",
    "    if len(x.get('href').split('/'))==6:\n",
    "        link_list.add(x.get('href'))"
   ]
  },
  {
   "cell_type": "code",
   "execution_count": 8,
   "metadata": {},
   "outputs": [],
   "source": [
    "rex = re.compile(r'/works/*')\n",
    "\n",
    "dajare_link_list = set()\n",
    "for x in link_list:\n",
    "    x = x.split('/')\n",
    "    data={'ViewQuantity': 1000, 'CategoryLarge': x[2], 'CategoryMiddle': x[3], 'CategorySmall': x[4], 'ViewOffset':0}\n",
    "    bs = BeautifulSoup(requests.post('https://dajare.jp/search/', data=data).text)\n",
    "    for u in bs.find_all('a', href=rex):\n",
    "        dajare_link_list.add(u.get('href'))\n",
    "    break"
   ]
  },
  {
   "cell_type": "code",
   "execution_count": 9,
   "metadata": {},
   "outputs": [],
   "source": [
    "mean_rex = re.compile(r'平均スコア：([0-9\\.]+)')\n",
    "dev_rex = re.compile(r'だじゃれ偏差値：([0-9\\.]+)')\n",
    "\n",
    "for u in list(dajare_link_list)[100:]:\n",
    "    url = f'https://dajare.jp{u}'\n",
    "    bs = BeautifulSoup(requests.get(url).text)\n",
    "    bs = bs.find(id='PanelContentMain')\n",
    "    \n",
    "    # dajare text, author\n",
    "    panel = bs.find(class_='PanelBox')\n",
    "    text = panel.find('span').text\n",
    "    author = panel.find('a').text\n",
    "    author_link = panel.find('a').get('href')\n",
    "    \n",
    "    # dajare meta data\n",
    "    fieldset = bs.find_all('fieldset')\n",
    "    eval_list = []\n",
    "    for field in fieldset:\n",
    "        legend = field.find('legend')\n",
    "        if not legend:\n",
    "            if '平均スコア' in field.text:\n",
    "                # dajare score\n",
    "                x = field.text.replace('\\n', '')\n",
    "                mean_score = float(mean_rex.findall(x)[0])\n",
    "                dev_score = float(dev_rex.findall(x)[0])\n",
    "            else:\n",
    "                # dajare evaluation scores\n",
    "                eval_row = {}\n",
    "                for row in field.find_all(class_='PanelWorkEvaluationList'):\n",
    "                    col = row.find('dt').text.strip()\n",
    "                    if col == '投稿者':\n",
    "                        eval_row.update({'author': {'link': row.find('a').get('href'), 'text':row.text.strip()}})\n",
    "                    if col == 'スコア':\n",
    "                        eval_row.update({'score': float(row.text.replace('スコア\\n',''))})\n",
    "                    if col =='評価投稿時刻':\n",
    "                        eval_row.update({'datetime': row.text.replace('評価投稿時刻','').strip()})\n",
    "                eval_list.append(eval_row)\n",
    "        elif 'カテゴリー' in legend.text:\n",
    "            # dajare category\n",
    "            category=[{'link':x.get(\"href\"), 'text':x.text} for x in set(field.find_all('a'))]\n",
    "        elif 'タグ' in legend.text:\n",
    "            # dajare tags\n",
    "            tag = [{'link': x.get(\"href\"), 'text':x.text} for x in field.find_all('a')]\n",
    "\n",
    "    d = {'url': url,'text':text, 'author':author, 'author_link':author_link,'mean_score': mean_score, 'deviation_score': dev_score, 'category':category, 'tag':tag, 'eval_list':eval_list}\n",
    "    print(json.dumps(d, indent=4, ensure_ascii=False))\n",
    "    break"
   ]
  },
  {
   "cell_type": "markdown",
   "metadata": {},
   "source": [
    "# ダジャレクローラー - dajarenavi.net"
   ]
  },
  {
   "cell_type": "code",
   "execution_count": 10,
   "metadata": {},
   "outputs": [],
   "source": [
    "# menu/0/m_01____a.htm ~ menu/0/m_91____wa.htm\n",
    "bs = BeautifulSoup(requests.get('https://dajarenavi.net/index.htm').text)\n",
    "\n",
    "# a,i,u,e,o,ka,ki,...\n",
    "aiueo_link_list = []\n",
    "for x in bs.find_all('tr', bgcolor=\"#000000\"):\n",
    "    for y in x.find_all('a'):\n",
    "        aiueo_link_list.append(y.get('href'))\n",
    "    break\n",
    "        \n",
    "# a-ka, sa-wa, ...\n",
    "fukugo_link_list = []\n",
    "for keyword_link in aiueo_link_list:\n",
    "    bs = BeautifulSoup(requests.get(f'https://dajarenavi.net/{keyword_link}').text)\n",
    "    for x in bs.find_all('tr', bgcolor=\"#000000\"):\n",
    "        for y in x.find_all('a'):\n",
    "            fukugo_link_list.append(y.get('href'))\n",
    "    break\n",
    "\n",
    "# art, arm, ...\n",
    "keyword_link_list=[]\n",
    "for link in fukugo_link_list:\n",
    "    bs = BeautifulSoup(requests.get(f'https://dajarenavi.net/menu/0/{link}').text)\n",
    "    for x in bs.find_all('tr', bgcolor=\"#000000\"):\n",
    "        for a in x.find_all('a'):\n",
    "            if not a.get('target'):\n",
    "                keyword_link_list.append(a.get('href'))\n",
    "    break"
   ]
  },
  {
   "cell_type": "code",
   "execution_count": 11,
   "metadata": {},
   "outputs": [],
   "source": [
    "dajare = []\n",
    "for link in keyword_link_list:\n",
    "    url = f'https://dajarenavi.net/{link.replace(\"../../\",\"\")}'\n",
    "    r = requests.get(url)\n",
    "    r.encoding = 'shift-jis'\n",
    "    bs = BeautifulSoup(r.text)\n",
    "    keyword = bs.find(class_=\"kw_title\").find('span').text.strip()\n",
    "    for x in bs.find_all(class_=\"dajare\"):\n",
    "        d = {'url': url,'text':x.text.strip(), 'author':'dajarenavi', 'author_link':'dajarenavi.net','mean_score': 0., 'deviation_score': 0., 'category':[], 'tag':[{'link':link.replace(\"../..\",\"\"),'text':keyword}], 'eval_list':[]}\n",
    "        dajare.append(d)\n",
    "    break"
   ]
  },
  {
   "cell_type": "code",
   "execution_count": 12,
   "metadata": {},
   "outputs": [
    {
     "name": "stdout",
     "output_type": "stream",
     "text": [
      "[\n",
      "    {\n",
      "        \"url\": \"https://dajarenavi.net/kw/a/art.htm\",\n",
      "        \"text\": \"アートが分からない奴には、ラリアート！\",\n",
      "        \"author\": \"dajarenavi\",\n",
      "        \"author_link\": \"dajarenavi.net\",\n",
      "        \"mean_score\": 0.0,\n",
      "        \"deviation_score\": 0.0,\n",
      "        \"category\": [],\n",
      "        \"tag\": [\n",
      "            {\n",
      "                \"link\": \"/kw/a/art.htm\",\n",
      "                \"text\": \"アート\"\n",
      "            }\n",
      "        ],\n",
      "        \"eval_list\": []\n",
      "    },\n",
      "    {\n",
      "        \"url\": \"https://dajarenavi.net/kw/a/art.htm\",\n",
      "        \"text\": \"アートって、あーとっても素敵！\",\n",
      "        \"author\": \"dajarenavi\",\n",
      "        \"author_link\": \"dajarenavi.net\",\n",
      "        \"mean_score\": 0.0,\n",
      "        \"deviation_score\": 0.0,\n",
      "        \"category\": [],\n",
      "        \"tag\": [\n",
      "            {\n",
      "                \"link\": \"/kw/a/art.htm\",\n",
      "                \"text\": \"アート\"\n",
      "            }\n",
      "        ],\n",
      "        \"eval_list\": []\n",
      "    },\n",
      "    {\n",
      "        \"url\": \"https://dajarenavi.net/kw/a/art.htm\",\n",
      "        \"text\": \"アートって、あーとっても美しい！\",\n",
      "        \"author\": \"dajarenavi\",\n",
      "        \"author_link\": \"dajarenavi.net\",\n",
      "        \"mean_score\": 0.0,\n",
      "        \"deviation_score\": 0.0,\n",
      "        \"category\": [],\n",
      "        \"tag\": [\n",
      "            {\n",
      "                \"link\": \"/kw/a/art.htm\",\n",
      "                \"text\": \"アート\"\n",
      "            }\n",
      "        ],\n",
      "        \"eval_list\": []\n",
      "    }\n",
      "]\n"
     ]
    }
   ],
   "source": [
    "print(json.dumps(dajare[:3],indent=4, ensure_ascii=False))"
   ]
  },
  {
   "cell_type": "markdown",
   "metadata": {},
   "source": [
    "# ダジャレクローラー - dajare.net"
   ]
  },
  {
   "cell_type": "code",
   "execution_count": 13,
   "metadata": {},
   "outputs": [],
   "source": [
    "rex = re.compile(r'^[0-9]+.htm')\n",
    "\n",
    "r = requests.get('http://www.dajare.net/')\n",
    "r.encoding='shift-jis'\n",
    "bs =  BeautifulSoup(r.text)\n",
    "dump_list = ['{:03}.htm'.format(x) for x in range(1,50+1)]+[x.get('href') for x in bs.find_all('a', href=rex)]"
   ]
  },
  {
   "cell_type": "code",
   "execution_count": 14,
   "metadata": {},
   "outputs": [],
   "source": [
    "for x in dump_list:\n",
    "    url = f'http://www.dajare.net/{x}'\n",
    "    r = requests.get(url)\n",
    "    r.encoding='shift-jis'\n",
    "    bs =  BeautifulSoup(r.text)\n",
    "    bs = bs.find('table')\n",
    "    l = []\n",
    "    for row in bs.find('td').text.strip().split('\\n'):\n",
    "        row = row.strip().split(' ')\n",
    "        if row[0].startswith('['):\n",
    "            author = row[1]\n",
    "        else:\n",
    "            text = ' '.join(row).replace('\\u3000','')\n",
    "            l.append({'text':text, 'url': url, 'author':author,  'author_link':'dajare.net', 'mean_score': 0., 'deviation_score': 0., 'category':[], 'tag':[], 'eval_list':[]})\n",
    "    break"
   ]
  },
  {
   "cell_type": "code",
   "execution_count": 15,
   "metadata": {},
   "outputs": [
    {
     "data": {
      "text/plain": [
       "[{'text': '仙台！！仙台！！仙台！！「うるせぇんだい！！」',\n",
       "  'url': 'http://www.dajare.net/001.htm',\n",
       "  'author': '水族館',\n",
       "  'author_link': 'dajare.net',\n",
       "  'mean_score': 0.0,\n",
       "  'deviation_score': 0.0,\n",
       "  'category': [],\n",
       "  'tag': [],\n",
       "  'eval_list': []},\n",
       " {'text': 'ふとんがふっとんだ〜〜〜！',\n",
       "  'url': 'http://www.dajare.net/001.htm',\n",
       "  'author': '謎の少年',\n",
       "  'author_link': 'dajare.net',\n",
       "  'mean_score': 0.0,\n",
       "  'deviation_score': 0.0,\n",
       "  'category': [],\n",
       "  'tag': [],\n",
       "  'eval_list': []},\n",
       " {'text': 'このキャベツ虫がついてる。',\n",
       "  'url': 'http://www.dajare.net/001.htm',\n",
       "  'author': 'ヤマジー',\n",
       "  'author_link': 'dajare.net',\n",
       "  'mean_score': 0.0,\n",
       "  'deviation_score': 0.0,\n",
       "  'category': [],\n",
       "  'tag': [],\n",
       "  'eval_list': []}]"
      ]
     },
     "execution_count": 15,
     "metadata": {},
     "output_type": "execute_result"
    }
   ],
   "source": [
    "l[:3]"
   ]
  },
  {
   "cell_type": "markdown",
   "metadata": {},
   "source": [
    "# ダジャレクローラー - www.biwa.ne.jp/~aki-ina/gyagu.html"
   ]
  },
  {
   "cell_type": "code",
   "execution_count": 16,
   "metadata": {},
   "outputs": [],
   "source": [
    "url = 'http://www.biwa.ne.jp/~aki-ina/gyagu.html'\n",
    "r = requests.get(url)\n",
    "r.encoding='utf-8'\n",
    "bs =  BeautifulSoup(r.text)\n",
    "\n",
    "l=[]\n",
    "for ul in bs.find_all('ul'):\n",
    "    for li in ul.find_all('li'):\n",
    "        if not li.find('a'):\n",
    "            l.append({'text':li.text.strip(), 'url': url, 'author':'BAKADAS',  'author_link':'www.biwa.ne.jp/~aki-ina', 'mean_score': 0., 'deviation_score': 0., 'category':[], 'tag':[], 'eval_list':[]})            "
   ]
  },
  {
   "cell_type": "code",
   "execution_count": 17,
   "metadata": {},
   "outputs": [
    {
     "data": {
      "text/plain": [
       "[{'text': '生姜が無いって。しょうがないなー',\n",
       "  'url': 'http://www.biwa.ne.jp/~aki-ina/gyagu.html',\n",
       "  'author': 'BAKADAS',\n",
       "  'author_link': 'www.biwa.ne.jp/~aki-ina',\n",
       "  'mean_score': 0.0,\n",
       "  'deviation_score': 0.0,\n",
       "  'category': [],\n",
       "  'tag': [],\n",
       "  'eval_list': []},\n",
       " {'text': 'あそこのソーダやさんおいしそーだ',\n",
       "  'url': 'http://www.biwa.ne.jp/~aki-ina/gyagu.html',\n",
       "  'author': 'BAKADAS',\n",
       "  'author_link': 'www.biwa.ne.jp/~aki-ina',\n",
       "  'mean_score': 0.0,\n",
       "  'deviation_score': 0.0,\n",
       "  'category': [],\n",
       "  'tag': [],\n",
       "  'eval_list': []},\n",
       " {'text': 'ロシアの殺しあ。おそろしあ',\n",
       "  'url': 'http://www.biwa.ne.jp/~aki-ina/gyagu.html',\n",
       "  'author': 'BAKADAS',\n",
       "  'author_link': 'www.biwa.ne.jp/~aki-ina',\n",
       "  'mean_score': 0.0,\n",
       "  'deviation_score': 0.0,\n",
       "  'category': [],\n",
       "  'tag': [],\n",
       "  'eval_list': []}]"
      ]
     },
     "execution_count": 17,
     "metadata": {},
     "output_type": "execute_result"
    }
   ],
   "source": [
    "l[:3]"
   ]
  },
  {
   "cell_type": "markdown",
   "metadata": {},
   "source": [
    "# ダジャレクローラー - dajareshuu.web.fc2.com/"
   ]
  },
  {
   "cell_type": "code",
   "execution_count": 18,
   "metadata": {},
   "outputs": [],
   "source": [
    "url = 'https://dajareshuu.web.fc2.com/'\n",
    "r = requests.get(url)\n",
    "r.encoding='utf-8'\n",
    "bs =  BeautifulSoup(r.text)\n",
    "\n",
    "l = []\n",
    "for tr in bs.find_all('tr'):\n",
    "    flag = True\n",
    "    for td in tr.find_all('td'):\n",
    "        if not td.find('a'):\n",
    "            if flag:\n",
    "                keyword = td.text.strip()\n",
    "                flag = False\n",
    "            else:\n",
    "                l.append({'text':td.text.strip(), 'url': url, 'author':'dajareshuu',  'author_link':'dajareshuu.web.fc2.com', 'mean_score': 0., 'deviation_score': 0., 'category':[], 'tag':[{'link':'dajareshuu.web.fc2.com','text':keyword}], 'eval_list':[]})   \n",
    "                flag = True"
   ]
  },
  {
   "cell_type": "code",
   "execution_count": 19,
   "metadata": {},
   "outputs": [
    {
     "data": {
      "text/plain": [
       "[{'text': 'アーカンソーはあかんそうだ',\n",
       "  'url': 'https://dajareshuu.web.fc2.com/',\n",
       "  'author': 'dajareshuu',\n",
       "  'author_link': 'dajareshuu.web.fc2.com',\n",
       "  'mean_score': 0.0,\n",
       "  'deviation_score': 0.0,\n",
       "  'category': [],\n",
       "  'tag': [{'link': 'dajareshuu.web.fc2.com', 'text': 'アーカンソー'}],\n",
       "  'eval_list': []},\n",
       " {'text': 'あーと少しでアートな作品完成',\n",
       "  'url': 'https://dajareshuu.web.fc2.com/',\n",
       "  'author': 'dajareshuu',\n",
       "  'author_link': 'dajareshuu.web.fc2.com',\n",
       "  'mean_score': 0.0,\n",
       "  'deviation_score': 0.0,\n",
       "  'category': [],\n",
       "  'tag': [{'link': 'dajareshuu.web.fc2.com', 'text': 'アート'}],\n",
       "  'eval_list': []},\n",
       " {'text': 'アールグレイ茶があーるぐれい',\n",
       "  'url': 'https://dajareshuu.web.fc2.com/',\n",
       "  'author': 'dajareshuu',\n",
       "  'author_link': 'dajareshuu.web.fc2.com',\n",
       "  'mean_score': 0.0,\n",
       "  'deviation_score': 0.0,\n",
       "  'category': [],\n",
       "  'tag': [{'link': 'dajareshuu.web.fc2.com', 'text': 'アールグレイ'}],\n",
       "  'eval_list': []}]"
      ]
     },
     "execution_count": 19,
     "metadata": {},
     "output_type": "execute_result"
    }
   ],
   "source": [
    "l[:3]"
   ]
  },
  {
   "cell_type": "markdown",
   "metadata": {},
   "source": [
    "# ダジャレクローラー - syuukaizyo.fc2web.com/02.html"
   ]
  },
  {
   "cell_type": "code",
   "execution_count": 20,
   "metadata": {},
   "outputs": [],
   "source": [
    "url = 'http://syuukaizyo.fc2web.com/02.html'\n",
    "r = requests.get(url)\n",
    "r.encoding='shift-jis'\n",
    "bs =  BeautifulSoup(r.text)\n",
    "\n",
    "l = []\n",
    "for x in bs.find('pre').text.split('\\n'):\n",
    "    if x.startswith('・'):\n",
    "        l.append({'text':x.replace('・','').strip(), 'url': url, 'author':'syuukaizyo',  'author_link':'syuukaizyo.fc2web.com', 'mean_score': 0., 'deviation_score': 0., 'category':[], 'tag':[], 'eval_list':[]})   "
   ]
  },
  {
   "cell_type": "code",
   "execution_count": 21,
   "metadata": {},
   "outputs": [
    {
     "data": {
      "text/plain": [
       "[{'text': '布団がふっとんだ',\n",
       "  'url': 'http://syuukaizyo.fc2web.com/02.html',\n",
       "  'author': 'syuukaizyo',\n",
       "  'author_link': 'syuukaizyo.fc2web.com',\n",
       "  'mean_score': 0.0,\n",
       "  'deviation_score': 0.0,\n",
       "  'category': [],\n",
       "  'tag': [],\n",
       "  'eval_list': []},\n",
       " {'text': 'ハエは速え',\n",
       "  'url': 'http://syuukaizyo.fc2web.com/02.html',\n",
       "  'author': 'syuukaizyo',\n",
       "  'author_link': 'syuukaizyo.fc2web.com',\n",
       "  'mean_score': 0.0,\n",
       "  'deviation_score': 0.0,\n",
       "  'category': [],\n",
       "  'tag': [],\n",
       "  'eval_list': []},\n",
       " {'text': '内臓がないぞう',\n",
       "  'url': 'http://syuukaizyo.fc2web.com/02.html',\n",
       "  'author': 'syuukaizyo',\n",
       "  'author_link': 'syuukaizyo.fc2web.com',\n",
       "  'mean_score': 0.0,\n",
       "  'deviation_score': 0.0,\n",
       "  'category': [],\n",
       "  'tag': [],\n",
       "  'eval_list': []}]"
      ]
     },
     "execution_count": 21,
     "metadata": {},
     "output_type": "execute_result"
    }
   ],
   "source": [
    "l[:3]"
   ]
  },
  {
   "cell_type": "markdown",
   "metadata": {},
   "source": [
    "# ダジャレクローラー - kaishaseikatsu.jp"
   ]
  },
  {
   "cell_type": "code",
   "execution_count": 22,
   "metadata": {},
   "outputs": [
    {
     "name": "stdout",
     "output_type": "stream",
     "text": [
      "[\n",
      "    {\n",
      "        \"text\": \"寒ぶりア紀\",\n",
      "        \"url\": \"http://archives.kaishaseikatsu.jp/cgi-bin/kaisha2/board_r.cgi?type=kaisha_dajare&next=i&range=100\",\n",
      "        \"author\": \"kaishaseikatsu\",\n",
      "        \"author_link\": \"http://archives.kaishaseikatsu.jp\",\n",
      "        \"mean_score\": 0.0,\n",
      "        \"deviation_score\": 0.0,\n",
      "        \"category\": [],\n",
      "        \"tag\": [],\n",
      "        \"eval_list\": []\n",
      "    },\n",
      "    {\n",
      "        \"text\": \"無論、オムロン\",\n",
      "        \"url\": \"http://archives.kaishaseikatsu.jp/cgi-bin/kaisha2/board_r.cgi?type=kaisha_dajare&next=i&range=100\",\n",
      "        \"author\": \"kaishaseikatsu\",\n",
      "        \"author_link\": \"http://archives.kaishaseikatsu.jp\",\n",
      "        \"mean_score\": 0.0,\n",
      "        \"deviation_score\": 0.0,\n",
      "        \"category\": [],\n",
      "        \"tag\": [],\n",
      "        \"eval_list\": []\n",
      "    },\n",
      "    {\n",
      "        \"text\": \"そばで煮て食えるだけでいい♪\",\n",
      "        \"url\": \"http://archives.kaishaseikatsu.jp/cgi-bin/kaisha2/board_r.cgi?type=kaisha_dajare&next=i&range=100\",\n",
      "        \"author\": \"kaishaseikatsu\",\n",
      "        \"author_link\": \"http://archives.kaishaseikatsu.jp\",\n",
      "        \"mean_score\": 0.0,\n",
      "        \"deviation_score\": 0.0,\n",
      "        \"category\": [],\n",
      "        \"tag\": [],\n",
      "        \"eval_list\": []\n",
      "    }\n",
      "]\n"
     ]
    }
   ],
   "source": [
    "for i in range(0, 2200, 100):\n",
    "    url='http://archives.kaishaseikatsu.jp/cgi-bin/kaisha2/board_r.cgi?type=kaisha_dajare&next=i&range=100'\n",
    "    r = requests.get(url)\n",
    "    r.encoding = 'shift-jis'\n",
    "    bs = BeautifulSoup(r.text)\n",
    "    l = []\n",
    "    for x in bs.find_all('tr', bgcolor=\"#FBFFB2\"):\n",
    "        l.append({'text':x.find('td').text, 'url': url, 'author':'kaishaseikatsu',  'author_link':'http://archives.kaishaseikatsu.jp', 'mean_score': 0., 'deviation_score': 0., 'category':[], 'tag':[], 'eval_list':[]})   \n",
    "    print(json.dumps(l[:3],indent=4, ensure_ascii=False))\n",
    "    break"
   ]
  }
 ],
 "metadata": {
  "kernelspec": {
   "display_name": "Python 3",
   "language": "python",
   "name": "python3"
  },
  "language_info": {
   "codemirror_mode": {
    "name": "ipython",
    "version": 3
   },
   "file_extension": ".py",
   "mimetype": "text/x-python",
   "name": "python",
   "nbconvert_exporter": "python",
   "pygments_lexer": "ipython3",
   "version": "3.6.8"
  }
 },
 "nbformat": 4,
 "nbformat_minor": 4
}
